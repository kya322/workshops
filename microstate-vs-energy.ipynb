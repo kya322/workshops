{
 "cells": [
  {
   "cell_type": "markdown",
   "id": "bcd6c5fc",
   "metadata": {},
   "source": [
    "### Microstates versus Energy"
   ]
  },
  {
   "cell_type": "code",
   "execution_count": null,
   "id": "1568a826",
   "metadata": {},
   "outputs": [],
   "source": [
    "import numpy as np\n",
    "import scipy as sy"
   ]
  },
  {
   "cell_type": "markdown",
   "id": "49ea5dd5",
   "metadata": {},
   "source": [
    "Define function to calculate the number of microstates for a given energy."
   ]
  },
  {
   "cell_type": "code",
   "execution_count": null,
   "id": "dff9c448",
   "metadata": {},
   "outputs": [],
   "source": [
    "def microstates(N, E, dE):\n",
    "    \n",
    "    # calculate total sum of 'steps' for equal space energy level\n",
    "    steps = int(E/dE)\n",
    "    \n",
    "    # separate the N particles into separate bins as much as possible for maximum entropy state\n",
    "    # start assuming all particles have zero energy and move up until reached the total energy\n",
    "    bin_energy = np.arange(0, 2*int(steps/N) + 2 + 1e-6, 1, dtype=np.int32)\n",
    "    bin_counts = np.zeros_like(bin_energy)\n",
    "    bin_counts[0] = N\n",
    "    \n",
    "    while np.sum(bin_energy*bin_counts) < steps:\n",
    "        # find the location with the greatest difference\n",
    "        diff = bin_counts[0:-2] - bin_counts[1:-1]\n",
    "        idx = diff.argmax()\n",
    "        \n",
    "        # move a particle up a single bin\n",
    "        bin_counts[idx] = bin_counts[idx] - 1\n",
    "        bin_counts[idx + 1] = bin_counts[idx + 1] + 1\n",
    "    \n",
    "    # calculate number of microstates for this maximum entropy state\n",
    "    #microstate = sy.special.factorial(N)\n",
    "    microstate = N*np.log(N)\n",
    "    for i in range(0, len(bin_counts)):\n",
    "        #microstate = microstate/sy.special.factorial(bin_counts[i])\n",
    "        if bin_counts[i] > 0:\n",
    "            microstate = microstate - bin_counts[i]*np.log(bin_counts[i])\n",
    "    \n",
    "    return microstate, bin_energy, bin_counts"
   ]
  },
  {
   "cell_type": "code",
   "execution_count": null,
   "id": "77ce6636",
   "metadata": {},
   "outputs": [],
   "source": [
    "microstates(10, 101, 1)"
   ]
  },
  {
   "cell_type": "markdown",
   "id": "44c29c34",
   "metadata": {},
   "source": [
    "Define function to plot number of microstates versus energy."
   ]
  },
  {
   "cell_type": "code",
   "execution_count": null,
   "id": "44ef1dfe",
   "metadata": {},
   "outputs": [],
   "source": [
    "from matplotlib import pyplot as plt\n",
    "from matplotlib import rc\n",
    "\n",
    "def microstate_plotter(N, E, dE):\n",
    "\n",
    "    # set up latex labels on plot (optional)\n",
    "    try:\n",
    "        rc('text', usetex=True) # can try usetex=False\n",
    "        rc('font', size=14)\n",
    "        rc('legend', fontsize=14)\n",
    "        rc('font', **{'family': 'serif', 'serif': ['Computer Modern']})\n",
    "    except:\n",
    "        pass\n",
    "\n",
    "    # create figure\n",
    "    fig, ax = plt.subplots(figsize=(6, 6))\n",
    "\n",
    "    # set axis labels\n",
    "    ax.set_xlabel(r'Energy')\n",
    "    ax.set_ylabel(r'Number of Microstates')\n",
    "\n",
    "    # calculate number of microstates for a range of energies\n",
    "    energy = np.arange(0, E, dE)\n",
    "    microstate = np.zeros_like(energy, dtype=np.float32)\n",
    "    for i in range(0, len(energy)):\n",
    "        microstate[i] = microstates(N, energy[i], dE)[0]\n",
    "    \n",
    "    ax.set_xscale('log')\n",
    "    ax.plot(energy, microstate - np.max(microstate), color='red')\n",
    "    \n",
    "    # calculate predicted number of microstates\n",
    "    pred = np.zeros_like(microstate)\n",
    "    pred[0] = np.nan\n",
    "    pred[1:] = (N*0.25)*np.log(energy[1:]/(N))\n",
    "    ax.plot(energy, pred - np.nanmax(pred), color='red', linestyle='dashed')\n",
    "\n",
    "    plt.show()"
   ]
  },
  {
   "cell_type": "code",
   "execution_count": null,
   "id": "bd07faee",
   "metadata": {},
   "outputs": [],
   "source": [
    "microstate_plotter(1250, 500, 1)"
   ]
  },
  {
   "cell_type": "code",
   "execution_count": null,
   "id": "2165b372",
   "metadata": {},
   "outputs": [],
   "source": []
  },
  {
   "cell_type": "code",
   "execution_count": null,
   "id": "fce39bc9",
   "metadata": {},
   "outputs": [],
   "source": []
  }
 ],
 "metadata": {
  "kernelspec": {
   "display_name": "Python 3 (ipykernel)",
   "language": "python",
   "name": "python3"
  },
  "language_info": {
   "codemirror_mode": {
    "name": "ipython",
    "version": 3
   },
   "file_extension": ".py",
   "mimetype": "text/x-python",
   "name": "python",
   "nbconvert_exporter": "python",
   "pygments_lexer": "ipython3",
   "version": "3.10.11"
  }
 },
 "nbformat": 4,
 "nbformat_minor": 5
}
