{
 "cells": [
  {
   "cell_type": "markdown",
   "id": "c7e5205a",
   "metadata": {},
   "source": [
    "### Maxwell-Boltzmann Distribution"
   ]
  },
  {
   "cell_type": "code",
   "execution_count": 2,
   "id": "aee8d25c",
   "metadata": {},
   "outputs": [],
   "source": [
    "import numpy as np\n",
    "import scipy as sy\n",
    "from numba import jit # optional to speed up code; comment out if not installed"
   ]
  },
  {
   "cell_type": "markdown",
   "id": "c70bc6a3",
   "metadata": {},
   "source": [
    "Define a function to create a set a randomly distributed particles."
   ]
  },
  {
   "cell_type": "code",
   "execution_count": 131,
   "id": "562e8a19",
   "metadata": {},
   "outputs": [],
   "source": [
    "def initial_conditions(N, v0):\n",
    "    \n",
    "    # create arrays of random numbers for (x, y) locations of each particle\n",
    "    x, y = np.random.random(N), np.random.random(N)\n",
    "    # create arrays of zeros for the initial velocities of each particle\n",
    "    vx, vy = (np.random.random(N) - 0.5)*float(v0), (np.random.random(N) - 0.5)*float(v0)\n",
    "    \n",
    "    return x, y, vx, vy"
   ]
  },
  {
   "cell_type": "markdown",
   "id": "5b0ce831",
   "metadata": {},
   "source": [
    "Define a function to apply classical dynamics for a single time step $dt$."
   ]
  },
  {
   "cell_type": "code",
   "execution_count": 109,
   "id": "3e75ad80",
   "metadata": {},
   "outputs": [],
   "source": [
    "@jit(nopython=True) # comment out this line if numba not installed\n",
    "def classical_step(x, y, vx, vy, dt, N):\n",
    "    \n",
    "    # set strength of particle repulsion (effectively radius of interaction)\n",
    "    strength = 1\n",
    "    \n",
    "    # create arrays for updated locations and velocities\n",
    "    x_, y_, vx_, vy_ = np.zeros_like(x), np.zeros_like(y), np.zeros_like(vx), np.zeros_like(vy)\n",
    "    \n",
    "    # consider forces acting on each particle\n",
    "    for i in range(len(x)):\n",
    "        # set acceleration on the i'th particle to zero (initially)\n",
    "        ax, ay = 0., 0.\n",
    "        \n",
    "        # estimate the electrostactic force on the i'th particle from each other particle\n",
    "        for j in range(len(x)):\n",
    "            # sum contribution from this particle to x- and y-components of the acceleration\n",
    "            if not j == i:\n",
    "                ax = ax + strength/(2*np.pi*np.sqrt(N))*(x[i] - x[j])/((x[i] - x[j])**2 + (y[i] - y[j])**2)\n",
    "                ay = ay + strength/(2*np.pi*np.sqrt(N))*(y[i] - y[j])/((x[i] - x[j])**2 + (y[i] - y[j])**2)\n",
    "                    # this is Coulomb's Law for a 2D plane with an arbitrary strength to represent collisions\n",
    "            \n",
    "        # calculate updated location and velocity of i'th particle\n",
    "        x_[i] = x[i] + vx[i]*dt + 1/2.*ax*dt**2\n",
    "        y_[i] = y[i] + vy[i]*dt + 1/2.*ay*dt**2\n",
    "        vx_[i] = vx[i] + ax*dt\n",
    "        vy_[i] = vy[i] + ay*dt\n",
    "        \n",
    "        # reflect particle off the boundary if it leaves the box during the time step\n",
    "        # will not work if particles travel across width of box in less than a single time step\n",
    "        if x_[i] < 0:\n",
    "            x_[i] = -x_[i]\n",
    "            vx_[i] = -vx_[i]\n",
    "        if x_[i] > 1:\n",
    "            x_[i] = 2 - x_[i]\n",
    "            vx_[i] = -vx_[i]\n",
    "        if y_[i] < 0:\n",
    "            y_[i] = -y_[i]\n",
    "            vy_[i] = -vy_[i]\n",
    "        if y_[i] > 1:\n",
    "            y_[i] = 2 - y_[i]\n",
    "            vy_[i] = -vy_[i]\n",
    "        \n",
    "    return x_, y_, vx_, vy_"
   ]
  },
  {
   "cell_type": "markdown",
   "id": "91cf0175",
   "metadata": {},
   "source": [
    "Define function to apply numerous iterations of the classical dynamics function."
   ]
  },
  {
   "cell_type": "code",
   "execution_count": 110,
   "id": "1dbff07e",
   "metadata": {},
   "outputs": [],
   "source": [
    "def simualtion(N, t, dt, v0):\n",
    "    \n",
    "    # initial conditions for particles\n",
    "    x, y, vx, vy = initial_conditions(N, v0)\n",
    "    # create lists to store time, location and velocity outputs for each time step \n",
    "    t_array, x_array, y_array, vx_array, vy_array = [0.], [x], [y], [vx], [vy]\n",
    "    \n",
    "    # evaluate classical dynamics for total time\n",
    "    tc, i = 0., 0\n",
    "    while tc < t:\n",
    "        # update current time step, ensuring final step is exactly t\n",
    "        if tc + dt > t:\n",
    "            dt = t - tc\n",
    "            tc = t\n",
    "        else:\n",
    "            tc = tc + dt\n",
    "        i = i + 1\n",
    "        \n",
    "        # run classical dynamics for a time step\n",
    "        x, y, vx, vy = classical_step(x, y, vx, vy, dt, N)\n",
    "        # add new time step to output arrays\n",
    "        t_array.append(tc)\n",
    "        x_array.append(x)\n",
    "        y_array.append(y)\n",
    "        vx_array.append(vx)\n",
    "        vy_array.append(vy)\n",
    "        \n",
    "    return t_array, x_array, y_array, vx_array, vy_array"
   ]
  },
  {
   "cell_type": "markdown",
   "id": "10d5077f",
   "metadata": {},
   "source": [
    "Run the simulation. Ensure $dt$ is sufficiently small that particles have not escaped the box by the final time step."
   ]
  },
  {
   "cell_type": "code",
   "execution_count": 148,
   "id": "9ca91238",
   "metadata": {},
   "outputs": [],
   "source": [
    "v0 = 1\n",
    "t_array, x_array, y_array, vx_array, vy_array = simualtion(100, 10, 0.00001, v0)"
   ]
  },
  {
   "cell_type": "code",
   "execution_count": 149,
   "id": "3e531831",
   "metadata": {},
   "outputs": [
    {
     "name": "stdout",
     "output_type": "stream",
     "text": [
      "10 [0.86328171 0.98790797 0.40790912 0.96292946 0.84695334 0.73450917\n",
      " 0.09295767 0.40391141 0.91338915 0.83942986 0.19845028 0.12751348\n",
      " 0.02517188 0.19468719 0.09713874 0.54197641 0.84304917 0.99038816\n",
      " 0.99791528 0.95938154 0.01715176 0.23507876 0.23228064 0.98813286\n",
      " 0.31537516 0.19786975 0.29421461 0.98118839 0.13796512 0.87272491\n",
      " 0.52299534 0.72271329 0.17343563 0.92964061 0.30290695 0.15235781\n",
      " 0.1537795  0.9107467  0.4553985  0.38456761 0.75113394 0.75726495\n",
      " 0.70259183 0.12718286 0.65099904 0.01395873 0.25947635 0.50616904\n",
      " 0.93087453 0.95208062 0.70508938 0.00572625 0.34979369 0.38694743\n",
      " 0.65257433 0.96886891 0.41170316 0.22089644 0.88523762 0.89679641\n",
      " 0.23480228 0.10052133 0.15828434 0.08633951 0.13602577 0.48309202\n",
      " 0.09385465 0.07998189 0.05829976 0.90607354 0.99876665 0.76317027\n",
      " 0.89876342 0.84922885 0.55079873 0.56551384 0.5640458  0.67990336\n",
      " 0.36171553 0.07678188 0.99470485 0.77708185 0.24296809 0.60013359\n",
      " 0.9544213  0.88335669 0.82164624 0.40426658 0.08909681 0.52610227\n",
      " 0.03326359 0.39346577 0.2543822  0.94522809 0.51104949 0.82445337\n",
      " 0.74652879 0.62008356 0.16454157 0.81638585] [0.00852023 0.09914467 0.97548839 0.5301314  0.84291624 0.36244049\n",
      " 0.83965156 0.54574543 0.03335688 0.74408321 0.11358141 0.85418295\n",
      " 0.98353122 0.2666199  0.97751738 0.96240314 0.93372242 0.91862901\n",
      " 0.20744078 0.93658792 0.73546229 0.71823943 0.62628452 0.37889297\n",
      " 0.92348823 0.94894612 0.07056824 0.93617578 0.67861299 0.70812747\n",
      " 0.10274826 0.00731877 0.97473899 0.928696   0.71533671 0.03239652\n",
      " 0.5584052  0.49487385 0.15421655 0.00399508 0.17463406 0.88929907\n",
      " 0.63232431 0.75839128 0.01810315 0.11570363 0.31426556 0.21494021\n",
      " 0.90321642 0.05836121 0.22649561 0.08946648 0.84976426 0.8417847\n",
      " 0.07059797 0.0289536  0.16621024 0.13771685 0.08064196 0.75711138\n",
      " 0.65576443 0.55888328 0.62199347 0.91329946 0.01113349 0.9598234\n",
      " 0.17398567 0.45630058 0.95228692 0.64553916 0.95811095 0.8450461\n",
      " 0.33310939 0.58586844 0.02165573 0.33849484 0.77330376 0.86159061\n",
      " 0.11412075 0.35944648 0.45962805 0.04035215 0.02291492 0.23605125\n",
      " 0.96171776 0.30732948 0.69150044 0.77829256 0.86482385 0.15378727\n",
      " 0.13917203 0.73381882 0.06540007 0.98655209 0.32169616 0.8322928\n",
      " 0.95399007 0.90001199 0.72295187 0.22485621] [-0.0765058   0.87568898  0.01026393 -0.10297044  0.20524545 -0.49558368\n",
      "  0.07156749  0.24785643  0.20857978  0.44689361 -0.07985486 -0.3708942\n",
      "  0.76505248  0.46792912 -0.43908952 -0.64062272  0.00321636  0.46189403\n",
      "  0.19278838  0.19758149  0.60773099 -0.10858391  0.2897836   0.02511034\n",
      "  0.5602514  -0.23672449 -0.93792832  0.27869535  0.03362863  0.11782007\n",
      "  0.36786193 -0.299746    0.6925438   0.63392492 -0.8495594   1.29175416\n",
      " -0.08356765  0.13636282 -0.41257215  0.4152901  -0.05469834 -0.99942814\n",
      " -0.27370578  0.42039539 -0.6394201  -0.70530286  0.78921756  0.1997433\n",
      "  0.74285437 -0.39439499  0.49544031 -0.53230135 -0.03784775 -0.56494639\n",
      "  0.28921054 -0.0032686  -0.7349847   0.92390677  0.01112476 -0.03626865\n",
      "  0.42642578  0.14861459  0.24994206  0.14973141  0.71389913 -0.27925169\n",
      " -0.22931478 -0.42362783  0.58533011  0.21021345  0.85089635  0.4552768\n",
      " -0.59999117 -0.06068884 -0.25060434  0.64651292  0.49087595  0.19988883\n",
      "  0.16325129 -0.32937866  0.81297348  0.18856008 -0.25217131  0.48820896\n",
      " -0.36352723 -0.11867949 -0.10183682  0.27967497  0.00593675  0.61760045\n",
      "  0.69746404  0.00484823  0.12724371 -0.55326978 -0.37191645  0.46104757\n",
      "  0.11971032  0.67349295  0.44589215  0.26018009] [ 0.31934627 -0.09302275 -0.30321873 -0.15135265 -0.3161589  -0.51481593\n",
      "  0.41673869 -0.38980058 -0.52751999 -0.22971819 -0.42269449  0.20314933\n",
      " -0.79501262 -0.07765009 -0.03498643 -0.22723914 -0.17185266 -0.01079827\n",
      " -0.30924927  0.47957916 -0.48441498 -0.72143372 -0.25174479 -0.39435277\n",
      "  0.02410389  0.76297319  0.19551237 -0.03998812  0.19519129 -0.62452542\n",
      "  0.49122589 -0.39392348 -0.9211605  -0.33327776 -0.3568039   0.79372778\n",
      " -0.3748671   0.306768    0.17049601  0.45916255 -0.05232194 -0.09352343\n",
      " -0.47594037  0.22151503  0.1672115  -0.73791105 -0.7549738   0.55382539\n",
      " -0.04923886  0.4110756   0.34253958 -0.8293327  -1.07594491  0.84371678\n",
      "  0.69311032 -0.07100121  0.02909263  0.99387858  0.54238818 -0.31386544\n",
      "  0.58875177 -0.03616819  0.19066568  0.28276442  0.60493232 -0.00122414\n",
      " -0.26305983  0.07869303 -0.06871227 -0.38982858  0.18993967 -0.57113829\n",
      " -0.2770349   0.10941721 -0.07542786  0.08289668 -0.6973449  -0.64972088\n",
      " -0.67363157  0.36754074  0.51015405 -0.09156417 -0.04995199  0.03369458\n",
      "  0.03984044  0.43359335  0.16977587  0.33495837  0.21416472 -0.58977222\n",
      "  0.40135096 -0.21472926 -0.52324897  0.47753287 -0.04173986  0.51973273\n",
      "  0.03537451 -0.10096433 -0.2036041   0.47614907]\n"
     ]
    }
   ],
   "source": [
    "print(t_array[-1], x_array[-1], y_array[-1], vx_array[-1], vy_array[-1])"
   ]
  },
  {
   "cell_type": "markdown",
   "id": "a06cd87c",
   "metadata": {},
   "source": [
    "Define a function to plot the velocity distribution."
   ]
  },
  {
   "cell_type": "code",
   "execution_count": 154,
   "id": "5b074e09",
   "metadata": {},
   "outputs": [],
   "source": [
    "from matplotlib import pyplot as plt\n",
    "from matplotlib import rc\n",
    "\n",
    "def velocity_plotter(vx, vy, v0):\n",
    "\n",
    "    # set up latex labels on plot (optional)\n",
    "    try:\n",
    "        rc('text', usetex=True) # can try usetex=False\n",
    "        rc('font', size=14)\n",
    "        rc('legend', fontsize=14)\n",
    "        rc('font', **{'family': 'serif', 'serif': ['Computer Modern']})\n",
    "    except:\n",
    "        pass\n",
    "\n",
    "    # create figure\n",
    "    fig, ax = plt.subplots(figsize=(6, 6))\n",
    "\n",
    "    # set axis labels\n",
    "    ax.set_xlabel(r'Velocity (arbitrary units)')\n",
    "    ax.set_ylabel(r'Number of particles')\n",
    "\n",
    "    ax.hist(np.sqrt(np.asarray(vx).flatten()**2 + np.asarray(vy).flatten()**2), bins=np.arange(0, 3*v0, v0/100), \\\n",
    "            color='red')\n",
    "\n",
    "    plt.show()"
   ]
  },
  {
   "cell_type": "code",
   "execution_count": 155,
   "id": "b40e6c50",
   "metadata": {},
   "outputs": [
    {
     "data": {
      "image/png": "[encoded data removed]",
      "text/plain": [
       "<Figure size 600x600 with 1 Axes>"
      ]
     },
     "metadata": {},
     "output_type": "display_data"
    }
   ],
   "source": [
    "velocity_plotter(vx_array[len(vx_array)//2:-1], vy_array[len(vy_array)//2:-1], v0)"
   ]
  },
  {
   "cell_type": "markdown",
   "id": "70d1b96a",
   "metadata": {},
   "source": [
    "Define function to create animation of particles."
   ]
  },
  {
   "cell_type": "code",
   "execution_count": 156,
   "id": "c209fdb6",
   "metadata": {},
   "outputs": [],
   "source": [
    "from matplotlib import animation\n",
    "from matplotlib.animation import FuncAnimation\n",
    "from matplotlib.collections import PathCollection\n",
    "\n",
    "def particle_animation(t_array, x_array, y_array, nth):\n",
    "    # nth states only the nth time step is added to the animation\n",
    "    \n",
    "    # set up latex labels on plot (optional) \n",
    "    rc('text', usetex=True)\n",
    "    rc('font', size=14)\n",
    "    rc('legend', fontsize=14)\n",
    "    rc('font', **{'family': 'serif', 'serif': ['Computer Modern']})\n",
    "\n",
    "    # create figure\n",
    "    fig, ax = plt.subplots(figsize=(7.5, 7.5))\n",
    "    \n",
    "    # set axis labels\n",
    "    ax.set_xlabel(r'$x$ (arbitrary units)')\n",
    "    ax.set_ylabel(r'$y$ (arbitrary units)')\n",
    "    \n",
    "    # set axis limits\n",
    "    ax.set_xlim([0, 1])\n",
    "    ax.set_ylim([0, 1])\n",
    "    ax.set_aspect('equal')    \n",
    "    \n",
    "    # add text label\n",
    "    text = ax.text(0.95, 0.05, r'$t = $ '+'{:.3g}'.format(t_array[0])+' s', ha='right')\n",
    "\n",
    "    # create animation\n",
    "    anim = FuncAnimation(fig, __animate_frame, frames=len(t_array[0::nth]), \\\n",
    "                         interval=t_array[-1]/len(t_array[0::nth]), \\\n",
    "                         blit=True, fargs=(ax, t_array[0::nth], x_array[0::nth], y_array[0::nth], text))\n",
    "    plt.close()\n",
    "    \n",
    "    return anim\n",
    "\n",
    "def __animate_frame(i, ax, t_array, x_array, y_array, text):\n",
    "    \n",
    "    # remove previous arrow for efficiency\n",
    "    for child in ax.get_children():\n",
    "        if isinstance(child, PathCollection):\n",
    "            child.remove()\n",
    "    \n",
    "    # add vector to plot\n",
    "    ax.scatter(x_array[i], y_array[i], c=np.arange(0, len(x_array[i])))\n",
    "    \n",
    "    text.set_text(r'$t = $ '+'{:.3g}'.format(t_array[i])+'\\,s')\n",
    "    \n",
    "    return text,"
   ]
  },
  {
   "cell_type": "code",
   "execution_count": 157,
   "id": "ef7fe073",
   "metadata": {},
   "outputs": [],
   "source": [
    "nth = 10000\n",
    "anim = particle_animation(t_array, x_array, y_array, nth)"
   ]
  },
  {
   "cell_type": "code",
   "execution_count": null,
   "id": "169c1f74",
   "metadata": {},
   "outputs": [],
   "source": [
    "f = \"particles.html\"\n",
    "writervideo = animation.HTMLWriter(fps=len(t_array[0::nth])/t_array[-1])\n",
    "anim.save(f, writer=writervideo, dpi=100)"
   ]
  },
  {
   "cell_type": "code",
   "execution_count": null,
   "id": "24b10f7e",
   "metadata": {},
   "outputs": [],
   "source": []
  }
 ],
 "metadata": {
  "kernelspec": {
   "display_name": "Python 3 (ipykernel)",
   "language": "python",
   "name": "python3"
  },
  "language_info": {
   "codemirror_mode": {
    "name": "ipython",
    "version": 3
   },
   "file_extension": ".py",
   "mimetype": "text/x-python",
   "name": "python",
   "nbconvert_exporter": "python",
   "pygments_lexer": "ipython3",
   "version": "3.10.11"
  }
 },
 "nbformat": 4,
 "nbformat_minor": 5
}
