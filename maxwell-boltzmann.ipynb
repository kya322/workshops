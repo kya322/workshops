{
 "cells": [
  {
   "cell_type": "markdown",
   "id": "c7e5205a",
   "metadata": {},
   "source": [
    "### Maxwell-Boltzmann Distribution"
   ]
  },
  {
   "cell_type": "code",
   "execution_count": 1,
   "id": "aee8d25c",
   "metadata": {},
   "outputs": [],
   "source": [
    "import numpy as np\n",
    "import scipy as sy\n",
    "from numba import jit # optional to speed up code; comment out if not installed"
   ]
  },
  {
   "cell_type": "markdown",
   "id": "c70bc6a3",
   "metadata": {},
   "source": [
    "Define a function to create a set a randomly distributed particles."
   ]
  },
  {
   "cell_type": "code",
   "execution_count": 38,
   "id": "562e8a19",
   "metadata": {},
   "outputs": [],
   "source": [
    "def initial_conditions(N):\n",
    "    \n",
    "    # create arrays of random numbers for (x, y) locations of each particle\n",
    "    x, y = np.random.random(N), np.random.random(N)\n",
    "    # create arrays of zeros for the initial velocities of each particle\n",
    "    vx, vy = np.zeros(N), np.zeros(N)\n",
    "    \n",
    "    return x, y, vx, vy"
   ]
  },
  {
   "cell_type": "markdown",
   "id": "5b0ce831",
   "metadata": {},
   "source": [
    "Define a function to apply classical dynamics for a single time step $dt$."
   ]
  },
  {
   "cell_type": "code",
   "execution_count": 22,
   "id": "3e75ad80",
   "metadata": {},
   "outputs": [],
   "source": [
    "@jit(nopython=True) # comment out this line if numba not installed\n",
    "def classical_step(x, y, vx, vy, dt, N):\n",
    "    \n",
    "    # set strength of particle repulsion (effectively radius of interaction)\n",
    "    strength = 0.1\n",
    "    \n",
    "    # create arrays for updated locations and velocities\n",
    "    x_, y_, vx_, vy_ = np.zeros_like(x), np.zeros_like(y), np.zeros_like(vx), np.zeros_like(vy)\n",
    "    \n",
    "    # consider forces acting on each particle\n",
    "    for i in range(len(x)):\n",
    "        # set acceleration on the i'th particle to zero (initially)\n",
    "        ax, ay = 0., 0.\n",
    "        \n",
    "        # estimate the electrostactic force on the i'th particle from each other particle\n",
    "        for j in range(len(x)):\n",
    "            # sum contribution from this particle to x- and y-components of the acceleration\n",
    "            if not j == i:\n",
    "                ax = ax + strength/(2*np.pi*np.sqrt(N))*(x[i] - x[j])/((x[i] - x[j])**2 + (y[i] - y[j])**2)\n",
    "                ay = ay + strength/(2*np.pi*np.sqrt(N))*(y[i] - y[j])/((x[i] - x[j])**2 + (y[i] - y[j])**2)\n",
    "                    # this is Coulomb's Law for a 2D plane with an arbitrary strength to represent collisions\n",
    "                # add contributions from image particles outside of the box\n",
    "                ax = ax + strength/(2*np.pi*np.sqrt(N))*(x[i] - x[j])/((x[i] - x[j])**2 + (y[i] + y[j])**2) \\\n",
    "                    + strength/(2*np.pi*np.sqrt(N))*(x[i] - x[j])/((x[i] - x[j])**2 + (y[i] - (2 - y[j]))**2) \\\n",
    "                    + strength/(2*np.pi*np.sqrt(N))*(x[i] + x[j])/((x[i] + x[j])**2 + (y[i] - y[j])**2) \\\n",
    "                    + strength/(2*np.pi*np.sqrt(N))*(x[i] + x[j])/((x[i] + x[j])**2 + (y[i] + y[j])**2) \\\n",
    "                    + strength/(2*np.pi*np.sqrt(N))*(x[i] - (2 - x[j]))/((x[i] + x[j])**2 + (y[i] - (2 - y[j]))**2) \\\n",
    "                    + strength/(2*np.pi*np.sqrt(N))*(x[i] - (2 - x[j]))/((x[i] + x[j])**2 + (y[i] + y[j])**2) \\\n",
    "                    + strength/(2*np.pi*np.sqrt(N))*(x[i] - (2 - x[j]))/((x[i] + x[j])**2 + (y[i] - (2 - y[j]))**2)\n",
    "                ay = ay + strength/(2*np.pi*np.sqrt(N))*(y[i] - y[j])/((y[i] - y[j])**2 + (x[i] + x[j])**2) \\\n",
    "                    + strength/(2*np.pi*np.sqrt(N))*(y[i] - y[j])/((y[i] - y[j])**2 + (x[i] - (2 - x[j]))**2) \\\n",
    "                    + strength/(2*np.pi*np.sqrt(N))*(y[i] + y[j])/((y[i] + y[j])**2 + (x[i] - x[j])**2) \\\n",
    "                    + strength/(2*np.pi*np.sqrt(N))*(y[i] + y[j])/((y[i] + y[j])**2 + (x[i] + x[j])**2) \\\n",
    "                    + strength/(2*np.pi*np.sqrt(N))*(y[i] - (2 - y[j]))/((y[i] + y[j])**2 + (x[i] - (2 - x[j]))**2) \\\n",
    "                    + strength/(2*np.pi*np.sqrt(N))*(y[i] - (2 - y[j]))/((y[i] + y[j])**2 + (x[i] + x[j])**2) \\\n",
    "                    + strength/(2*np.pi*np.sqrt(N))*(y[i] - (2 - y[j]))/((y[i] + y[j])**2 + (x[i] - (2 - x[j]))**2)\n",
    "                \n",
    "        # calculate updated location and velocity of i'th particle\n",
    "        x_[i] = x[i] + vx[i]*dt + 1/2.*ax*dt**2\n",
    "        y_[i] = y[i] + vy[i]*dt + 1/2.*ay*dt**2\n",
    "        vx_[i] = vx[i] + ax*dt\n",
    "        vy_[i] = vy[i] + ay*dt\n",
    "        \n",
    "        # reflect particle off the boundary if it leaves the box during the time step\n",
    "        # will not work if particles travel across width of box in less than a single time step\n",
    "        if x_[i] < 0:\n",
    "            x_[i] = -x_[i]\n",
    "            vx_[i] = -vx_[i]\n",
    "        if x_[i] > 1:\n",
    "            x_[i] = 2 - x_[i]\n",
    "            vx_[i] = -vx_[i]\n",
    "        if y_[i] < 0:\n",
    "            y_[i] = -y_[i]\n",
    "            vy_[i] = -vy_[i]\n",
    "        if y_[i] > 1:\n",
    "            y_[i] = 2 - y_[i]\n",
    "            vy_[i] = -vy_[i]\n",
    "        \n",
    "    return x_, y_, vx_, vy_"
   ]
  },
  {
   "cell_type": "markdown",
   "id": "91cf0175",
   "metadata": {},
   "source": [
    "Define function to apply numerous iterations of the classical dynamics function."
   ]
  },
  {
   "cell_type": "code",
   "execution_count": 39,
   "id": "1dbff07e",
   "metadata": {},
   "outputs": [],
   "source": [
    "def simualtion(N, t, dt):\n",
    "    \n",
    "    # initial conditions for particles\n",
    "    x, y, vx, vy = initial_conditions(N)\n",
    "    # create lists to store time, location and velocity outputs for each time step \n",
    "    t_array, x_array, y_array, vx_array, vy_array = [0.], [x], [y], [vx], [vy]\n",
    "    \n",
    "    # evaluate classical dynamics for total time\n",
    "    tc, i = 0., 0\n",
    "    while tc < t:\n",
    "        # update current time step, ensuring final step is exactly t\n",
    "        if tc + dt > t:\n",
    "            dt = t - tc\n",
    "            tc = t\n",
    "        else:\n",
    "            tc = tc + dt\n",
    "        i = i + 1\n",
    "        \n",
    "        # run classical dynamics for a time step\n",
    "        x, y, vx, vy = classical_step(x, y, vx, vy, dt, N)\n",
    "        # add new time step to output arrays\n",
    "        t_array.append(tc)\n",
    "        x_array.append(x)\n",
    "        y_array.append(y)\n",
    "        vx_array.append(vx)\n",
    "        vy_array.append(vy)\n",
    "        \n",
    "    return t_array, x_array, y_array, vx_array, vy_array"
   ]
  },
  {
   "cell_type": "markdown",
   "id": "10d5077f",
   "metadata": {},
   "source": [
    "Run the simulation. Ensure $dt$ is sufficiently small that particles have not escaped the box by the final time step."
   ]
  },
  {
   "cell_type": "code",
   "execution_count": 40,
   "id": "9ca91238",
   "metadata": {},
   "outputs": [],
   "source": [
    "t_array, x_array, y_array, vx_array, vy_array = simualtion(100, 10, 0.00001)"
   ]
  },
  {
   "cell_type": "code",
   "execution_count": 41,
   "id": "3e531831",
   "metadata": {},
   "outputs": [
    {
     "name": "stdout",
     "output_type": "stream",
     "text": [
      "10 [0.69049946 0.85652341 0.05507057 0.05328102 0.20888719 0.85726393\n",
      " 0.1176408  0.94563788 0.95753674 0.19556931 0.83476186 0.75291803\n",
      " 0.39380165 0.86238648 0.00166779 0.44103253 0.23799512 0.08563543\n",
      " 0.9602668  0.02435968 0.98119347 0.16052664 0.09223639 0.11183278\n",
      " 0.2608875  0.86820472 0.98634877 0.02864551 0.06096885 0.74920201\n",
      " 0.25255942 0.04372792 0.26739477 0.75262244 0.16799199 0.67102277\n",
      " 0.26900181 0.47951421 0.94755591 0.00730417 0.28951115 0.21350439\n",
      " 0.72697632 0.78499581 0.57379788 0.20202127 0.44910606 0.05650739\n",
      " 0.88921436 0.59334879 0.88221572 0.99075533 0.2490406  0.19367201\n",
      " 0.07963873 0.0603611  0.87688246 0.32701344 0.47678035 0.12068095\n",
      " 0.26059606 0.05159079 0.01645563 0.39124034 0.89785739 0.32434869\n",
      " 0.03332529 0.89597818 0.10772722 0.88845989 0.95231532 0.49079514\n",
      " 0.28146185 0.87749379 0.9758489  0.0592769  0.80771558 0.98168696\n",
      " 0.15766079 0.78282499 0.95237795 0.03286796 0.87173771 0.7510121\n",
      " 0.92275664 0.98601252 0.99264742 0.00751115 0.8274692  0.65592183\n",
      " 0.03425704 0.04468874 0.99374339 0.9756946  0.52348997 0.21905312\n",
      " 0.05719444 0.34000546 0.10030864 0.72071519] [0.13815322 0.68871011 0.03210914 0.07196055 0.99337486 0.15061537\n",
      " 0.01339772 0.06622074 0.01781613 0.97064252 0.95018934 0.03901831\n",
      " 0.89440711 0.34239172 0.79456128 0.85352542 0.39994906 0.22046501\n",
      " 0.5708547  0.63020243 0.12209155 0.86270226 0.88281549 0.64806138\n",
      " 0.86911561 0.00887092 0.23672435 0.98398876 0.92535716 0.93599161\n",
      " 0.02229753 0.03056653 0.99333917 0.00174216 0.45602511 0.90977838\n",
      " 0.37272685 0.4387155  0.25516184 0.88108913 0.25622954 0.84197513\n",
      " 0.72901571 0.90094987 0.53010154 0.17208362 0.9849942  0.09615181\n",
      " 0.15922461 0.76618789 0.91289327 0.74745789 0.03193648 0.88155869\n",
      " 0.78504137 0.95156722 0.9391548  0.96728412 0.26413344 0.24421993\n",
      " 0.9092876  0.13545522 0.72999228 0.40139139 0.37136232 0.99967047\n",
      " 0.53051667 0.90710929 0.96212177 0.60200145 0.61424532 0.01908418\n",
      " 0.81772276 0.43690742 0.44314558 0.33527583 0.05168479 0.22234167\n",
      " 0.68300069 0.45437438 0.24877736 0.94336962 0.22723591 0.31611664\n",
      " 0.07970678 0.07548718 0.78906237 0.04661584 0.98998914 0.9061893\n",
      " 0.1868411  0.11906361 0.30370813 0.1700178  0.80485407 0.01650642\n",
      " 0.37662318 0.84047957 0.71126089 0.97925339] [ 0.24670702 -0.30651724  0.26610389  0.47263039 -0.20509011  0.34501318\n",
      " -0.42894987  0.01479027  0.19921203 -0.03759876  0.25752513 -0.01275582\n",
      " -0.37994519 -0.4364115  -0.04957637 -0.18585901  0.1812164  -0.45093926\n",
      "  0.25578031 -0.11900959 -0.10321887  0.52049114 -0.16782742  0.3166032\n",
      " -0.05428298 -0.04279095 -0.25451866  0.15221521  0.4316517   0.49080481\n",
      "  0.11602799  0.18963867 -0.15387739 -0.21003307 -0.3088052  -0.41658974\n",
      " -0.16927781 -0.04602932 -0.03053411  0.45365699  0.20024662  0.18797298\n",
      "  0.05219603  0.06384674 -0.04096258 -0.40712841  0.20877323  0.15299207\n",
      "  0.63801476  0.06117945 -0.05949052  0.12777636 -0.0605059   0.71604032\n",
      " -0.08161862  0.34322167  0.0699465  -0.17312171  0.00910502  0.32583995\n",
      " -0.43922979  0.06137846 -0.79507887 -0.16738457 -0.19765256  0.67579333\n",
      "  0.03300298 -0.18705487 -0.80612993 -0.05443083  0.02933167  0.10984321\n",
      " -0.24062692  0.16581258  0.08087981 -0.29574096 -0.48170225 -0.12610374\n",
      "  0.28903136  0.03863326  0.14884034 -0.21460598 -0.13839357 -0.0027439\n",
      "  0.21825121 -0.09601037  0.09834952  0.24450754 -0.13093253  0.00223994\n",
      "  0.04309456  0.08245127  0.16666587  0.14060541 -0.26280288 -0.54915173\n",
      " -0.11421611  0.43344117 -0.41364313 -0.37122238] [-0.112096   -0.08963053 -0.11007935  0.22832627  0.15575096 -0.15969746\n",
      "  0.71163402 -0.02294061  0.27597765 -0.05907565  0.10886498 -0.65171867\n",
      " -0.14746586 -0.21049123 -0.02793877  0.34802293  0.02773432 -0.03764121\n",
      "  0.45126207 -0.37227117  0.32056704 -0.26201412  0.00182475  0.02766136\n",
      "  0.2111676   0.494331   -0.54943711 -0.14570212 -0.18929053 -0.0911047\n",
      "  0.0883019  -0.65025948  0.33538191  0.10221461  0.08339049  0.08251356\n",
      " -0.13486153 -0.06590788 -0.38320856  0.19432451 -0.30823498 -0.03187514\n",
      "  0.20121931 -0.10049992  0.00173713  0.12971317 -0.08849745  0.42528912\n",
      "  0.35275879  0.12338984 -0.02968077 -0.04819805  0.13985253  0.07021195\n",
      " -0.35310414  0.09364009  0.21657197  0.24682565  0.29437558  0.28899052\n",
      "  0.15694391  0.41767267 -0.11956423  0.04469262 -0.41378923  0.1372175\n",
      " -0.1344693   0.06836286  0.03224299 -0.3144602   0.18122861  0.39975724\n",
      " -0.12355132  0.13227439 -0.51458883  0.39897408  0.28896537  0.28271838\n",
      " -0.1466562   0.04944849  0.12556462 -0.32264356  0.16282267  0.2794582\n",
      "  0.11771929 -0.78069703 -0.0828164   0.62664731 -0.04841621  0.3872249\n",
      "  0.43973362  0.07513167 -0.31445425 -0.23118733 -0.01608012  0.67566331\n",
      " -0.16365058  0.50355057  0.14065871  0.20605241]\n"
     ]
    }
   ],
   "source": [
    "print(t_array[-1], x_array[-1], y_array[-1], vx_array[-1], vy_array[-1])"
   ]
  },
  {
   "cell_type": "markdown",
   "id": "a06cd87c",
   "metadata": {},
   "source": [
    "Define a function to plot the velocity distribution."
   ]
  },
  {
   "cell_type": "code",
   "execution_count": 42,
   "id": "5b074e09",
   "metadata": {},
   "outputs": [],
   "source": [
    "from matplotlib import pyplot as plt\n",
    "from matplotlib import rc\n",
    "\n",
    "def velocity_plotter(vx, vy):\n",
    "\n",
    "    # set up latex labels on plot (optional)\n",
    "    try:\n",
    "        rc('text', usetex=True) # can try usetex=False\n",
    "        rc('font', size=14)\n",
    "        rc('legend', fontsize=14)\n",
    "        rc('font', **{'family': 'serif', 'serif': ['Computer Modern']})\n",
    "    except:\n",
    "        pass\n",
    "\n",
    "    # create figure\n",
    "    fig, ax = plt.subplots(figsize=(6, 6))\n",
    "\n",
    "    # set axis labels\n",
    "    ax.set_xlabel(r'Velocity (arbitrary units)')\n",
    "    ax.set_ylabel(r'Number of particles')\n",
    "\n",
    "    v = np.sqrt(np.asarray(vx).flatten()**2 + np.asarray(vy).flatten()**2)\n",
    "    ax.hist(v, bins=np.arange(0, np.max(v), np.max(v)/100), \\\n",
    "            color='red')\n",
    "\n",
    "    plt.show()"
   ]
  },
  {
   "cell_type": "code",
   "execution_count": 43,
   "id": "b40e6c50",
   "metadata": {},
   "outputs": [
    {
     "data": {
      "image/png": "[encoded data removed]",
      "text/plain": [
       "<Figure size 600x600 with 1 Axes>"
      ]
     },
     "metadata": {},
     "output_type": "display_data"
    }
   ],
   "source": [
    "velocity_plotter(vx_array[len(vx_array)//2:-1], vy_array[len(vy_array)//2:-1])"
   ]
  },
  {
   "cell_type": "markdown",
   "id": "70d1b96a",
   "metadata": {},
   "source": [
    "Define function to create animation of particles."
   ]
  },
  {
   "cell_type": "code",
   "execution_count": 44,
   "id": "c209fdb6",
   "metadata": {},
   "outputs": [],
   "source": [
    "from matplotlib import animation\n",
    "from matplotlib.animation import FuncAnimation\n",
    "from matplotlib.collections import PathCollection\n",
    "\n",
    "def particle_animation(t_array, x_array, y_array, nth):\n",
    "    # nth states only the nth time step is added to the animation\n",
    "    \n",
    "    # set up latex labels on plot (optional) \n",
    "    rc('text', usetex=True)\n",
    "    rc('font', size=14)\n",
    "    rc('legend', fontsize=14)\n",
    "    rc('font', **{'family': 'serif', 'serif': ['Computer Modern']})\n",
    "\n",
    "    # create figure\n",
    "    fig, ax = plt.subplots(figsize=(7.5, 7.5))\n",
    "    \n",
    "    # set axis labels\n",
    "    ax.set_xlabel(r'$x$ (arbitrary units)')\n",
    "    ax.set_ylabel(r'$y$ (arbitrary units)')\n",
    "    \n",
    "    # set axis limits\n",
    "    ax.set_xlim([0, 1])\n",
    "    ax.set_ylim([0, 1])\n",
    "    ax.set_aspect('equal')    \n",
    "    \n",
    "    # add text label\n",
    "    text = ax.text(0.95, 0.05, r'$t = $ '+'{:.3g}'.format(t_array[0])+' s', ha='right')\n",
    "\n",
    "    # create animation\n",
    "    anim = FuncAnimation(fig, __animate_frame, frames=len(t_array[0::nth]), \\\n",
    "                         interval=t_array[-1]/len(t_array[0::nth]), \\\n",
    "                         blit=True, fargs=(ax, t_array[0::nth], x_array[0::nth], y_array[0::nth], text))\n",
    "    plt.close()\n",
    "    \n",
    "    return anim\n",
    "\n",
    "def __animate_frame(i, ax, t_array, x_array, y_array, text):\n",
    "    \n",
    "    # remove previous arrow for efficiency\n",
    "    for child in ax.get_children():\n",
    "        if isinstance(child, PathCollection):\n",
    "            child.remove()\n",
    "    \n",
    "    # add vector to plot\n",
    "    ax.scatter(x_array[i], y_array[i], c=np.arange(0, len(x_array[i])))\n",
    "    \n",
    "    text.set_text(r'$t = $ '+'{:.3g}'.format(t_array[i])+'\\,s')\n",
    "    \n",
    "    return text,"
   ]
  },
  {
   "cell_type": "code",
   "execution_count": 31,
   "id": "ef7fe073",
   "metadata": {},
   "outputs": [],
   "source": [
    "nth = 10000\n",
    "anim = particle_animation(t_array, x_array, y_array, nth)"
   ]
  },
  {
   "cell_type": "code",
   "execution_count": 32,
   "id": "169c1f74",
   "metadata": {},
   "outputs": [],
   "source": [
    "f = \"particles.html\"\n",
    "writervideo = animation.HTMLWriter(fps=len(t_array[0::nth])/t_array[-1])\n",
    "anim.save(f, writer=writervideo, dpi=100)"
   ]
  },
  {
   "cell_type": "code",
   "execution_count": null,
   "id": "24b10f7e",
   "metadata": {},
   "outputs": [],
   "source": []
  }
 ],
 "metadata": {
  "kernelspec": {
   "display_name": "Python 3 (ipykernel)",
   "language": "python",
   "name": "python3"
  },
  "language_info": {
   "codemirror_mode": {
    "name": "ipython",
    "version": 3
   },
   "file_extension": ".py",
   "mimetype": "text/x-python",
   "name": "python",
   "nbconvert_exporter": "python",
   "pygments_lexer": "ipython3",
   "version": "3.10.11"
  }
 },
 "nbformat": 4,
 "nbformat_minor": 5
}
