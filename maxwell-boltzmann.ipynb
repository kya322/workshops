{
 "cells": [
  {
   "cell_type": "markdown",
   "id": "c7e5205a",
   "metadata": {},
   "source": [
    "### Maxwell-Boltzmann Distribution"
   ]
  },
  {
   "cell_type": "code",
   "execution_count": null,
   "id": "aee8d25c",
   "metadata": {},
   "outputs": [],
   "source": [
    "import numpy as np\n",
    "import scipy as sy\n",
    "from numba import jit # optional to speed up code; comment out if not installed"
   ]
  },
  {
   "cell_type": "markdown",
   "id": "c70bc6a3",
   "metadata": {},
   "source": [
    "Define a function to create a set a randomly distributed particles."
   ]
  },
  {
   "cell_type": "code",
   "execution_count": null,
   "id": "562e8a19",
   "metadata": {},
   "outputs": [],
   "source": [
    "def initial_conditions(N, v0):\n",
    "    \n",
    "    # create arrays of random numbers for (x, y) locations of each particle\n",
    "    x, y = np.random.random(N), np.random.random(N)\n",
    "    # create arrays of zeros for the initial velocities of each particle\n",
    "    vx, vy = np.zeros_like(x), np.zeros_like(y)\n",
    "    # set one particle with high initial velocity\n",
    "    idx = x**2 + y**2 == np.min(x**2 + y**2)\n",
    "    vx[idx], vy[idx] = v0, v0\n",
    "    \n",
    "    return x, y, vx, vy"
   ]
  },
  {
   "cell_type": "markdown",
   "id": "5b0ce831",
   "metadata": {},
   "source": [
    "Define a function to apply classical dynamics for a single time step $dt$."
   ]
  },
  {
   "cell_type": "code",
   "execution_count": null,
   "id": "3e75ad80",
   "metadata": {},
   "outputs": [],
   "source": [
    "@jit(nopython=True) # comment out this line if numba not installed\n",
    "def classical_step(x, y, vx, vy, dt, N):\n",
    "    \n",
    "    # create arrays for updated locations and velocities\n",
    "    x_, y_, vx_, vy_ = np.zeros_like(x), np.zeros_like(y), np.zeros_like(vx), np.zeros_like(vy)\n",
    "    \n",
    "    # consider forces acting on each particle\n",
    "    for i in range(len(x)):\n",
    "        # set acceleration on the i'th particle to zero (initially)\n",
    "        ax, ay = 0., 0.\n",
    "        \n",
    "        # estimate the electrostactic force on the i'th particle from each other particle\n",
    "        for j in range(len(x)):\n",
    "            # sum contribution from this particle to x- and y-components of the acceleration\n",
    "            if not j == i:\n",
    "                ax = ax + 1/(2*np.pi*np.sqrt(N))*(x[i] - x[j])/((x[i] - x[j])**2 + (y[i] - y[j])**2)\n",
    "                ay = ay + 1/(2*np.pi*np.sqrt(N))*(y[i] - y[j])/((x[i] - x[j])**2 + (y[i] - y[j])**2)\n",
    "                    # SI units are multiplied by factor of sqrt(N)*q**2/epsilon_0\n",
    "                    # note this is Coulomb's Law for a 2D plane\n",
    "            \n",
    "        # calculate updated location and velocity of i'th particle\n",
    "        x_[i] = x[i] + vx[i]*dt + 1/2.*ax*dt**2\n",
    "        y_[i] = y[i] + vy[i]*dt + 1/2.*ay*dt**2\n",
    "        vx_[i] = vx[i] + ax*dt\n",
    "        vy_[i] = vy[i] + ay*dt\n",
    "        \n",
    "        # reflect particle off the boundary if it leaves the box during the time step\n",
    "        # will not work if particles travel across width of box in less than a single time step\n",
    "        if x_[i] < 0:\n",
    "            x_[i] = -x_[i]\n",
    "            vx_[i] = -vx_[i]\n",
    "        if x_[i] > 1:\n",
    "            x_[i] = 2 - x_[i]\n",
    "            vx_[i] = -vx_[i]\n",
    "        if y_[i] < 0:\n",
    "            y_[i] = -y_[i]\n",
    "            vy_[i] = -vy_[i]\n",
    "        if y_[i] > 1:\n",
    "            y_[i] = 2 - y_[i]\n",
    "            vy_[i] = -vy_[i]\n",
    "        \n",
    "    return x_, y_, vx_, vy_"
   ]
  },
  {
   "cell_type": "markdown",
   "id": "91cf0175",
   "metadata": {},
   "source": [
    "Define function to apply numerous iterations of the classical dynamics function."
   ]
  },
  {
   "cell_type": "code",
   "execution_count": null,
   "id": "1dbff07e",
   "metadata": {},
   "outputs": [],
   "source": [
    "def simualtion(N, t, dt, v0):\n",
    "    \n",
    "    # initial conditions for particles\n",
    "    x, y, vx, vy = initial_conditions(N, v0)\n",
    "    # create lists to store time, location and velocity outputs for each time step \n",
    "    t_array, x_array, y_array, vx_array, vy_array = [0.], [x], [y], [vx], [vy]\n",
    "    \n",
    "    # evaluate classical dynamics for total time\n",
    "    tc, i = 0., 0\n",
    "    while tc < t:\n",
    "        # update current time step, ensuring final step is exactly t\n",
    "        if tc + dt > t:\n",
    "            dt = t - tc\n",
    "            tc = t\n",
    "        else:\n",
    "            tc = tc + dt\n",
    "        i = i + 1\n",
    "        \n",
    "        # run classical dynamics for a time step\n",
    "        x, y, vx, vy = classical_step(x, y, vx, vy, dt, N)\n",
    "        # add new time step to output arrays\n",
    "        t_array.append(tc)\n",
    "        x_array.append(x)\n",
    "        y_array.append(y)\n",
    "        vx_array.append(vx)\n",
    "        vy_array.append(vy)\n",
    "        \n",
    "    return t_array, x_array, y_array, vx_array, vy_array"
   ]
  },
  {
   "cell_type": "markdown",
   "id": "10d5077f",
   "metadata": {},
   "source": [
    "Run the simulation. Ensure $dt$ is sufficiently small that particles have not escaped the box by the final time step."
   ]
  },
  {
   "cell_type": "code",
   "execution_count": null,
   "id": "9ca91238",
   "metadata": {},
   "outputs": [],
   "source": [
    "t_array, x_array, y_array, vx_array, vy_array = simualtion(100, 10, 0.00001, 1e5)"
   ]
  },
  {
   "cell_type": "code",
   "execution_count": null,
   "id": "3e531831",
   "metadata": {},
   "outputs": [],
   "source": [
    "print(t_array[-1], x_array[-1], y_array[-1], vx_array[-1], vy_array[-1])"
   ]
  },
  {
   "cell_type": "markdown",
   "id": "a06cd87c",
   "metadata": {},
   "source": [
    "Define a function to plot the velocity distribution."
   ]
  },
  {
   "cell_type": "code",
   "execution_count": null,
   "id": "5b074e09",
   "metadata": {},
   "outputs": [],
   "source": [
    "from matplotlib import pyplot as plt\n",
    "from matplotlib import rc\n",
    "\n",
    "def velocity_plotter(vx, vy):\n",
    "\n",
    "    # set up latex labels on plot (optional)\n",
    "    try:\n",
    "        rc('text', usetex=True) # can try usetex=False\n",
    "        rc('font', size=14)\n",
    "        rc('legend', fontsize=14)\n",
    "        rc('font', **{'family': 'serif', 'serif': ['Computer Modern']})\n",
    "    except:\n",
    "        pass\n",
    "\n",
    "    # create figure\n",
    "    fig, ax = plt.subplots(figsize=(6, 6))\n",
    "\n",
    "    # set axis labels\n",
    "    ax.set_xlabel(r'Velocity (arbitrary units)')\n",
    "    ax.set_ylabel(r'Number of particles')\n",
    "\n",
    "    ax.hist(np.sqrt(np.asarray(vx).flatten()**2 + np.asarray(vy).flatten()**2), bins=np.arange(0, 2, 0.025), color='red')\n",
    "\n",
    "    plt.show()"
   ]
  },
  {
   "cell_type": "code",
   "execution_count": null,
   "id": "b40e6c50",
   "metadata": {},
   "outputs": [],
   "source": [
    "velocity_plotter(vx_array[len(vx_array)//2:-1], vy_array[len(vy_array)//2:-1])"
   ]
  },
  {
   "cell_type": "code",
   "execution_count": null,
   "id": "cb19ee8d",
   "metadata": {},
   "outputs": [],
   "source": []
  }
 ],
 "metadata": {
  "kernelspec": {
   "display_name": "Python 3 (ipykernel)",
   "language": "python",
   "name": "python3"
  },
  "language_info": {
   "codemirror_mode": {
    "name": "ipython",
    "version": 3
   },
   "file_extension": ".py",
   "mimetype": "text/x-python",
   "name": "python",
   "nbconvert_exporter": "python",
   "pygments_lexer": "ipython3",
   "version": "3.10.11"
  }
 },
 "nbformat": 4,
 "nbformat_minor": 5
}
