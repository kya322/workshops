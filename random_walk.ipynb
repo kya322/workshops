{
 "cells": [
  {
   "cell_type": "markdown",
   "metadata": {},
   "source": [
    "### Random Walk"
   ]
  },
  {
   "cell_type": "code",
   "execution_count": 50,
   "metadata": {},
   "outputs": [],
   "source": [
    "import numpy as np\n",
    "import scipy as sy"
   ]
  },
  {
   "cell_type": "markdown",
   "metadata": {},
   "source": [
    "#### Binomial distribution"
   ]
  },
  {
   "cell_type": "markdown",
   "metadata": {},
   "source": [
    "Define a function to model a random walk as a binomial distribution with probability $p_1$ of going a step right and $p_2$ of going a step left."
   ]
  },
  {
   "cell_type": "code",
   "execution_count": 65,
   "metadata": {},
   "outputs": [],
   "source": [
    "def binomial_walk(m, N, p1):\n",
    "    '''\n",
    "    Function to define probability for random walk using binomial distribution\n",
    "    m : number of steps to the right from initial location\n",
    "    N : total number of steps\n",
    "    p1 : probability of moving to the right\n",
    "    '''\n",
    "    \n",
    "    # calcualte n1 and n2\n",
    "    n1 = (N + m)//2 # what happens if N + m is odd?\n",
    "    n2 = (N - m)//2\n",
    "    \n",
    "    # calculate p2\n",
    "    p2 = 1 - p1\n",
    "    \n",
    "    return sy.special.factorial(n1 + n2)/(sy.special.factorial(n1)*sy.special.factorial(n2)) * p1**n1 * p2**n2 "
   ]
  },
  {
   "cell_type": "markdown",
   "metadata": {},
   "source": [
    "Find the probability for a few cases."
   ]
  },
  {
   "cell_type": "code",
   "execution_count": 66,
   "metadata": {},
   "outputs": [
    {
     "data": {
      "text/plain": [
       "0.205078125"
      ]
     },
     "execution_count": 66,
     "metadata": {},
     "output_type": "execute_result"
    }
   ],
   "source": [
    "binomial_walk(2, 10, 0.5)"
   ]
  },
  {
   "cell_type": "markdown",
   "metadata": {},
   "source": [
    "Define a function to plot the random walk binomial distribution."
   ]
  },
  {
   "cell_type": "code",
   "execution_count": 71,
   "metadata": {},
   "outputs": [],
   "source": [
    "from matplotlib import pyplot as plt\n",
    "from matplotlib import rc\n",
    "\n",
    "def binomial_plotter(m_array, P_array):\n",
    "\n",
    "    # set up latex labels on plot (optional)\n",
    "    try:\n",
    "        rc('text', usetex=True) # can try usetex=False\n",
    "        rc('font', size=14)\n",
    "        rc('legend', fontsize=14)\n",
    "        rc('font', **{'family': 'serif', 'serif': ['Computer Modern']})\n",
    "    except:\n",
    "        pass\n",
    "\n",
    "    # create figure\n",
    "    fig, ax = plt.subplots(figsize=(6, 6))\n",
    "\n",
    "    # set axis labels\n",
    "    ax.set_xlabel(r'Macrostate, $m$')\n",
    "    ax.set_ylabel(r'Probability')\n",
    "\n",
    "    ax.bar(m_array, P_array, color='green')\n",
    "\n",
    "    plt.show()"
   ]
  },
  {
   "cell_type": "markdown",
   "metadata": {},
   "source": [
    "Create an array of probabilities for each possible macrostate."
   ]
  },
  {
   "cell_type": "code",
   "execution_count": 79,
   "metadata": {},
   "outputs": [
    {
     "data": {
      "image/png": "[encoded data removed]",
      "text/plain": [
       "<Figure size 600x600 with 1 Axes>"
      ]
     },
     "metadata": {},
     "output_type": "display_data"
    }
   ],
   "source": [
    "# set the number of trials and probability of moving to the right\n",
    "N, p1 = 50, 0.5\n",
    "\n",
    "# set the possible end states\n",
    "m_array = np.arange(-N, N + 1e-6, 2)\n",
    "# derive the probabilities\n",
    "P_array = binomial_walk(m_array, N, p1)\n",
    "\n",
    "# plot the binomial distribution\n",
    "binomial_plotter(m_array, P_array)"
   ]
  },
  {
   "cell_type": "code",
   "execution_count": null,
   "metadata": {},
   "outputs": [],
   "source": []
  }
 ],
 "metadata": {
  "kernelspec": {
   "display_name": "Python 3 (ipykernel)",
   "language": "python",
   "name": "python3"
  },
  "language_info": {
   "codemirror_mode": {
    "name": "ipython",
    "version": 3
   },
   "file_extension": ".py",
   "mimetype": "text/x-python",
   "name": "python",
   "nbconvert_exporter": "python",
   "pygments_lexer": "ipython3",
   "version": "3.10.11"
  }
 },
 "nbformat": 4,
 "nbformat_minor": 4
}
